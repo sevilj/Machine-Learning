{
 "cells": [
  {
   "cell_type": "code",
   "execution_count": 529,
   "id": "80f7dab7",
   "metadata": {},
   "outputs": [],
   "source": [
    "import pandas as pd\n",
    "import numpy as np"
   ]
  },
  {
   "cell_type": "code",
   "execution_count": 530,
   "id": "8ae622f0",
   "metadata": {},
   "outputs": [],
   "source": [
    "data = pd.read_csv('https://raw.githubusercontent.com/alexeygrigorev/datasets/master/housing.csv')"
   ]
  },
  {
   "cell_type": "code",
   "execution_count": 531,
   "id": "b0d4dec6",
   "metadata": {},
   "outputs": [
    {
     "data": {
      "text/html": [
       "<div>\n",
       "<style scoped>\n",
       "    .dataframe tbody tr th:only-of-type {\n",
       "        vertical-align: middle;\n",
       "    }\n",
       "\n",
       "    .dataframe tbody tr th {\n",
       "        vertical-align: top;\n",
       "    }\n",
       "\n",
       "    .dataframe thead th {\n",
       "        text-align: right;\n",
       "    }\n",
       "</style>\n",
       "<table border=\"1\" class=\"dataframe\">\n",
       "  <thead>\n",
       "    <tr style=\"text-align: right;\">\n",
       "      <th></th>\n",
       "      <th>longitude</th>\n",
       "      <th>latitude</th>\n",
       "      <th>housing_median_age</th>\n",
       "      <th>total_rooms</th>\n",
       "      <th>total_bedrooms</th>\n",
       "      <th>population</th>\n",
       "      <th>households</th>\n",
       "      <th>median_income</th>\n",
       "      <th>median_house_value</th>\n",
       "      <th>ocean_proximity</th>\n",
       "    </tr>\n",
       "  </thead>\n",
       "  <tbody>\n",
       "    <tr>\n",
       "      <th>0</th>\n",
       "      <td>-122.23</td>\n",
       "      <td>37.88</td>\n",
       "      <td>41.0</td>\n",
       "      <td>880.0</td>\n",
       "      <td>129.0</td>\n",
       "      <td>322.0</td>\n",
       "      <td>126.0</td>\n",
       "      <td>8.3252</td>\n",
       "      <td>452600.0</td>\n",
       "      <td>NEAR BAY</td>\n",
       "    </tr>\n",
       "    <tr>\n",
       "      <th>1</th>\n",
       "      <td>-122.22</td>\n",
       "      <td>37.86</td>\n",
       "      <td>21.0</td>\n",
       "      <td>7099.0</td>\n",
       "      <td>1106.0</td>\n",
       "      <td>2401.0</td>\n",
       "      <td>1138.0</td>\n",
       "      <td>8.3014</td>\n",
       "      <td>358500.0</td>\n",
       "      <td>NEAR BAY</td>\n",
       "    </tr>\n",
       "    <tr>\n",
       "      <th>2</th>\n",
       "      <td>-122.24</td>\n",
       "      <td>37.85</td>\n",
       "      <td>52.0</td>\n",
       "      <td>1467.0</td>\n",
       "      <td>190.0</td>\n",
       "      <td>496.0</td>\n",
       "      <td>177.0</td>\n",
       "      <td>7.2574</td>\n",
       "      <td>352100.0</td>\n",
       "      <td>NEAR BAY</td>\n",
       "    </tr>\n",
       "    <tr>\n",
       "      <th>3</th>\n",
       "      <td>-122.25</td>\n",
       "      <td>37.85</td>\n",
       "      <td>52.0</td>\n",
       "      <td>1274.0</td>\n",
       "      <td>235.0</td>\n",
       "      <td>558.0</td>\n",
       "      <td>219.0</td>\n",
       "      <td>5.6431</td>\n",
       "      <td>341300.0</td>\n",
       "      <td>NEAR BAY</td>\n",
       "    </tr>\n",
       "    <tr>\n",
       "      <th>4</th>\n",
       "      <td>-122.25</td>\n",
       "      <td>37.85</td>\n",
       "      <td>52.0</td>\n",
       "      <td>1627.0</td>\n",
       "      <td>280.0</td>\n",
       "      <td>565.0</td>\n",
       "      <td>259.0</td>\n",
       "      <td>3.8462</td>\n",
       "      <td>342200.0</td>\n",
       "      <td>NEAR BAY</td>\n",
       "    </tr>\n",
       "    <tr>\n",
       "      <th>...</th>\n",
       "      <td>...</td>\n",
       "      <td>...</td>\n",
       "      <td>...</td>\n",
       "      <td>...</td>\n",
       "      <td>...</td>\n",
       "      <td>...</td>\n",
       "      <td>...</td>\n",
       "      <td>...</td>\n",
       "      <td>...</td>\n",
       "      <td>...</td>\n",
       "    </tr>\n",
       "    <tr>\n",
       "      <th>20635</th>\n",
       "      <td>-121.09</td>\n",
       "      <td>39.48</td>\n",
       "      <td>25.0</td>\n",
       "      <td>1665.0</td>\n",
       "      <td>374.0</td>\n",
       "      <td>845.0</td>\n",
       "      <td>330.0</td>\n",
       "      <td>1.5603</td>\n",
       "      <td>78100.0</td>\n",
       "      <td>INLAND</td>\n",
       "    </tr>\n",
       "    <tr>\n",
       "      <th>20636</th>\n",
       "      <td>-121.21</td>\n",
       "      <td>39.49</td>\n",
       "      <td>18.0</td>\n",
       "      <td>697.0</td>\n",
       "      <td>150.0</td>\n",
       "      <td>356.0</td>\n",
       "      <td>114.0</td>\n",
       "      <td>2.5568</td>\n",
       "      <td>77100.0</td>\n",
       "      <td>INLAND</td>\n",
       "    </tr>\n",
       "    <tr>\n",
       "      <th>20637</th>\n",
       "      <td>-121.22</td>\n",
       "      <td>39.43</td>\n",
       "      <td>17.0</td>\n",
       "      <td>2254.0</td>\n",
       "      <td>485.0</td>\n",
       "      <td>1007.0</td>\n",
       "      <td>433.0</td>\n",
       "      <td>1.7000</td>\n",
       "      <td>92300.0</td>\n",
       "      <td>INLAND</td>\n",
       "    </tr>\n",
       "    <tr>\n",
       "      <th>20638</th>\n",
       "      <td>-121.32</td>\n",
       "      <td>39.43</td>\n",
       "      <td>18.0</td>\n",
       "      <td>1860.0</td>\n",
       "      <td>409.0</td>\n",
       "      <td>741.0</td>\n",
       "      <td>349.0</td>\n",
       "      <td>1.8672</td>\n",
       "      <td>84700.0</td>\n",
       "      <td>INLAND</td>\n",
       "    </tr>\n",
       "    <tr>\n",
       "      <th>20639</th>\n",
       "      <td>-121.24</td>\n",
       "      <td>39.37</td>\n",
       "      <td>16.0</td>\n",
       "      <td>2785.0</td>\n",
       "      <td>616.0</td>\n",
       "      <td>1387.0</td>\n",
       "      <td>530.0</td>\n",
       "      <td>2.3886</td>\n",
       "      <td>89400.0</td>\n",
       "      <td>INLAND</td>\n",
       "    </tr>\n",
       "  </tbody>\n",
       "</table>\n",
       "<p>20640 rows × 10 columns</p>\n",
       "</div>"
      ],
      "text/plain": [
       "       longitude  latitude  housing_median_age  total_rooms  total_bedrooms  \\\n",
       "0        -122.23     37.88                41.0        880.0           129.0   \n",
       "1        -122.22     37.86                21.0       7099.0          1106.0   \n",
       "2        -122.24     37.85                52.0       1467.0           190.0   \n",
       "3        -122.25     37.85                52.0       1274.0           235.0   \n",
       "4        -122.25     37.85                52.0       1627.0           280.0   \n",
       "...          ...       ...                 ...          ...             ...   \n",
       "20635    -121.09     39.48                25.0       1665.0           374.0   \n",
       "20636    -121.21     39.49                18.0        697.0           150.0   \n",
       "20637    -121.22     39.43                17.0       2254.0           485.0   \n",
       "20638    -121.32     39.43                18.0       1860.0           409.0   \n",
       "20639    -121.24     39.37                16.0       2785.0           616.0   \n",
       "\n",
       "       population  households  median_income  median_house_value  \\\n",
       "0           322.0       126.0         8.3252            452600.0   \n",
       "1          2401.0      1138.0         8.3014            358500.0   \n",
       "2           496.0       177.0         7.2574            352100.0   \n",
       "3           558.0       219.0         5.6431            341300.0   \n",
       "4           565.0       259.0         3.8462            342200.0   \n",
       "...           ...         ...            ...                 ...   \n",
       "20635       845.0       330.0         1.5603             78100.0   \n",
       "20636       356.0       114.0         2.5568             77100.0   \n",
       "20637      1007.0       433.0         1.7000             92300.0   \n",
       "20638       741.0       349.0         1.8672             84700.0   \n",
       "20639      1387.0       530.0         2.3886             89400.0   \n",
       "\n",
       "      ocean_proximity  \n",
       "0            NEAR BAY  \n",
       "1            NEAR BAY  \n",
       "2            NEAR BAY  \n",
       "3            NEAR BAY  \n",
       "4            NEAR BAY  \n",
       "...               ...  \n",
       "20635          INLAND  \n",
       "20636          INLAND  \n",
       "20637          INLAND  \n",
       "20638          INLAND  \n",
       "20639          INLAND  \n",
       "\n",
       "[20640 rows x 10 columns]"
      ]
     },
     "execution_count": 531,
     "metadata": {},
     "output_type": "execute_result"
    }
   ],
   "source": [
    "data"
   ]
  },
  {
   "cell_type": "code",
   "execution_count": 322,
   "id": "842ac57a",
   "metadata": {},
   "outputs": [],
   "source": [
    "import seaborn as sns"
   ]
  },
  {
   "cell_type": "code",
   "execution_count": 323,
   "id": "75396793",
   "metadata": {},
   "outputs": [
    {
     "data": {
      "text/plain": [
       "<AxesSubplot:xlabel='median_house_value', ylabel='Count'>"
      ]
     },
     "execution_count": 323,
     "metadata": {},
     "output_type": "execute_result"
    },
    {
     "data": {
      "image/png": "[encoded data removed]",
      "text/plain": [
       "<Figure size 432x288 with 1 Axes>"
      ]
     },
     "metadata": {
      "needs_background": "light"
     },
     "output_type": "display_data"
    }
   ],
   "source": [
    "sns.histplot(data['median_house_value'],bins=50)"
   ]
  },
  {
   "cell_type": "code",
   "execution_count": 500,
   "id": "95b2492a",
   "metadata": {},
   "outputs": [],
   "source": [
    "df_selected = data[['latitude',\n",
    "'longitude',\n",
    "'housing_median_age',\n",
    "'total_rooms',\n",
    "'total_bedrooms',\n",
    "'population',\n",
    "'households',\n",
    "'median_income',\n",
    "'median_house_value']]"
   ]
  },
  {
   "cell_type": "code",
   "execution_count": 288,
   "id": "d12ff9cd",
   "metadata": {},
   "outputs": [
    {
     "data": {
      "text/html": [
       "<div>\n",
       "<style scoped>\n",
       "    .dataframe tbody tr th:only-of-type {\n",
       "        vertical-align: middle;\n",
       "    }\n",
       "\n",
       "    .dataframe tbody tr th {\n",
       "        vertical-align: top;\n",
       "    }\n",
       "\n",
       "    .dataframe thead th {\n",
       "        text-align: right;\n",
       "    }\n",
       "</style>\n",
       "<table border=\"1\" class=\"dataframe\">\n",
       "  <thead>\n",
       "    <tr style=\"text-align: right;\">\n",
       "      <th></th>\n",
       "      <th>latitude</th>\n",
       "      <th>longitude</th>\n",
       "      <th>housing_median_age</th>\n",
       "      <th>total_rooms</th>\n",
       "      <th>total_bedrooms</th>\n",
       "      <th>population</th>\n",
       "      <th>households</th>\n",
       "      <th>median_income</th>\n",
       "      <th>median_house_value</th>\n",
       "    </tr>\n",
       "  </thead>\n",
       "  <tbody>\n",
       "    <tr>\n",
       "      <th>0</th>\n",
       "      <td>37.88</td>\n",
       "      <td>-122.23</td>\n",
       "      <td>41.0</td>\n",
       "      <td>880.0</td>\n",
       "      <td>129.0</td>\n",
       "      <td>322.0</td>\n",
       "      <td>126.0</td>\n",
       "      <td>8.3252</td>\n",
       "      <td>452600.0</td>\n",
       "    </tr>\n",
       "    <tr>\n",
       "      <th>1</th>\n",
       "      <td>37.86</td>\n",
       "      <td>-122.22</td>\n",
       "      <td>21.0</td>\n",
       "      <td>7099.0</td>\n",
       "      <td>1106.0</td>\n",
       "      <td>2401.0</td>\n",
       "      <td>1138.0</td>\n",
       "      <td>8.3014</td>\n",
       "      <td>358500.0</td>\n",
       "    </tr>\n",
       "    <tr>\n",
       "      <th>2</th>\n",
       "      <td>37.85</td>\n",
       "      <td>-122.24</td>\n",
       "      <td>52.0</td>\n",
       "      <td>1467.0</td>\n",
       "      <td>190.0</td>\n",
       "      <td>496.0</td>\n",
       "      <td>177.0</td>\n",
       "      <td>7.2574</td>\n",
       "      <td>352100.0</td>\n",
       "    </tr>\n",
       "    <tr>\n",
       "      <th>3</th>\n",
       "      <td>37.85</td>\n",
       "      <td>-122.25</td>\n",
       "      <td>52.0</td>\n",
       "      <td>1274.0</td>\n",
       "      <td>235.0</td>\n",
       "      <td>558.0</td>\n",
       "      <td>219.0</td>\n",
       "      <td>5.6431</td>\n",
       "      <td>341300.0</td>\n",
       "    </tr>\n",
       "    <tr>\n",
       "      <th>4</th>\n",
       "      <td>37.85</td>\n",
       "      <td>-122.25</td>\n",
       "      <td>52.0</td>\n",
       "      <td>1627.0</td>\n",
       "      <td>280.0</td>\n",
       "      <td>565.0</td>\n",
       "      <td>259.0</td>\n",
       "      <td>3.8462</td>\n",
       "      <td>342200.0</td>\n",
       "    </tr>\n",
       "    <tr>\n",
       "      <th>...</th>\n",
       "      <td>...</td>\n",
       "      <td>...</td>\n",
       "      <td>...</td>\n",
       "      <td>...</td>\n",
       "      <td>...</td>\n",
       "      <td>...</td>\n",
       "      <td>...</td>\n",
       "      <td>...</td>\n",
       "      <td>...</td>\n",
       "    </tr>\n",
       "    <tr>\n",
       "      <th>20635</th>\n",
       "      <td>39.48</td>\n",
       "      <td>-121.09</td>\n",
       "      <td>25.0</td>\n",
       "      <td>1665.0</td>\n",
       "      <td>374.0</td>\n",
       "      <td>845.0</td>\n",
       "      <td>330.0</td>\n",
       "      <td>1.5603</td>\n",
       "      <td>78100.0</td>\n",
       "    </tr>\n",
       "    <tr>\n",
       "      <th>20636</th>\n",
       "      <td>39.49</td>\n",
       "      <td>-121.21</td>\n",
       "      <td>18.0</td>\n",
       "      <td>697.0</td>\n",
       "      <td>150.0</td>\n",
       "      <td>356.0</td>\n",
       "      <td>114.0</td>\n",
       "      <td>2.5568</td>\n",
       "      <td>77100.0</td>\n",
       "    </tr>\n",
       "    <tr>\n",
       "      <th>20637</th>\n",
       "      <td>39.43</td>\n",
       "      <td>-121.22</td>\n",
       "      <td>17.0</td>\n",
       "      <td>2254.0</td>\n",
       "      <td>485.0</td>\n",
       "      <td>1007.0</td>\n",
       "      <td>433.0</td>\n",
       "      <td>1.7000</td>\n",
       "      <td>92300.0</td>\n",
       "    </tr>\n",
       "    <tr>\n",
       "      <th>20638</th>\n",
       "      <td>39.43</td>\n",
       "      <td>-121.32</td>\n",
       "      <td>18.0</td>\n",
       "      <td>1860.0</td>\n",
       "      <td>409.0</td>\n",
       "      <td>741.0</td>\n",
       "      <td>349.0</td>\n",
       "      <td>1.8672</td>\n",
       "      <td>84700.0</td>\n",
       "    </tr>\n",
       "    <tr>\n",
       "      <th>20639</th>\n",
       "      <td>39.37</td>\n",
       "      <td>-121.24</td>\n",
       "      <td>16.0</td>\n",
       "      <td>2785.0</td>\n",
       "      <td>616.0</td>\n",
       "      <td>1387.0</td>\n",
       "      <td>530.0</td>\n",
       "      <td>2.3886</td>\n",
       "      <td>89400.0</td>\n",
       "    </tr>\n",
       "  </tbody>\n",
       "</table>\n",
       "<p>20640 rows × 9 columns</p>\n",
       "</div>"
      ],
      "text/plain": [
       "       latitude  longitude  housing_median_age  total_rooms  total_bedrooms  \\\n",
       "0         37.88    -122.23                41.0        880.0           129.0   \n",
       "1         37.86    -122.22                21.0       7099.0          1106.0   \n",
       "2         37.85    -122.24                52.0       1467.0           190.0   \n",
       "3         37.85    -122.25                52.0       1274.0           235.0   \n",
       "4         37.85    -122.25                52.0       1627.0           280.0   \n",
       "...         ...        ...                 ...          ...             ...   \n",
       "20635     39.48    -121.09                25.0       1665.0           374.0   \n",
       "20636     39.49    -121.21                18.0        697.0           150.0   \n",
       "20637     39.43    -121.22                17.0       2254.0           485.0   \n",
       "20638     39.43    -121.32                18.0       1860.0           409.0   \n",
       "20639     39.37    -121.24                16.0       2785.0           616.0   \n",
       "\n",
       "       population  households  median_income  median_house_value  \n",
       "0           322.0       126.0         8.3252            452600.0  \n",
       "1          2401.0      1138.0         8.3014            358500.0  \n",
       "2           496.0       177.0         7.2574            352100.0  \n",
       "3           558.0       219.0         5.6431            341300.0  \n",
       "4           565.0       259.0         3.8462            342200.0  \n",
       "...           ...         ...            ...                 ...  \n",
       "20635       845.0       330.0         1.5603             78100.0  \n",
       "20636       356.0       114.0         2.5568             77100.0  \n",
       "20637      1007.0       433.0         1.7000             92300.0  \n",
       "20638       741.0       349.0         1.8672             84700.0  \n",
       "20639      1387.0       530.0         2.3886             89400.0  \n",
       "\n",
       "[20640 rows x 9 columns]"
      ]
     },
     "execution_count": 288,
     "metadata": {},
     "output_type": "execute_result"
    }
   ],
   "source": [
    "df_selected"
   ]
  },
  {
   "cell_type": "markdown",
   "id": "68a908c3",
   "metadata": {},
   "source": [
    "# Question 1"
   ]
  },
  {
   "cell_type": "markdown",
   "id": "8e755ed3",
   "metadata": {},
   "source": [
    "Find a feature with missing values. How many missing values does it have?"
   ]
  },
  {
   "cell_type": "code",
   "execution_count": 289,
   "id": "01921336",
   "metadata": {},
   "outputs": [
    {
     "data": {
      "text/plain": [
       "latitude                0\n",
       "longitude               0\n",
       "housing_median_age      0\n",
       "total_rooms             0\n",
       "total_bedrooms        207\n",
       "population              0\n",
       "households              0\n",
       "median_income           0\n",
       "median_house_value      0\n",
       "dtype: int64"
      ]
     },
     "execution_count": 289,
     "metadata": {},
     "output_type": "execute_result"
    }
   ],
   "source": [
    "df_selected.isnull().sum()"
   ]
  },
  {
   "cell_type": "markdown",
   "id": "42c25018",
   "metadata": {},
   "source": [
    "# Question 2"
   ]
  },
  {
   "cell_type": "markdown",
   "id": "94508a70",
   "metadata": {},
   "source": [
    "What's the median (50% percentile) for variable 'population'?"
   ]
  },
  {
   "cell_type": "code",
   "execution_count": 290,
   "id": "ac70fa70",
   "metadata": {},
   "outputs": [
    {
     "data": {
      "text/plain": [
       "1166.0"
      ]
     },
     "execution_count": 290,
     "metadata": {},
     "output_type": "execute_result"
    }
   ],
   "source": [
    "df_selected['population'].median()"
   ]
  },
  {
   "cell_type": "code",
   "execution_count": 291,
   "id": "29a591bf",
   "metadata": {},
   "outputs": [
    {
     "data": {
      "text/plain": [
       "1166.0"
      ]
     },
     "execution_count": 291,
     "metadata": {},
     "output_type": "execute_result"
    }
   ],
   "source": [
    "np.percentile(df_selected['population'],50)"
   ]
  },
  {
   "cell_type": "markdown",
   "id": "fd642ef2",
   "metadata": {},
   "source": [
    "Shuffle the initial dataset, use seed 42."
   ]
  },
  {
   "cell_type": "code",
   "execution_count": 373,
   "id": "0f146774",
   "metadata": {},
   "outputs": [],
   "source": [
    "n = len(df_selected)"
   ]
  },
  {
   "cell_type": "code",
   "execution_count": 374,
   "id": "788070c7",
   "metadata": {},
   "outputs": [
    {
     "data": {
      "text/plain": [
       "20640"
      ]
     },
     "execution_count": 374,
     "metadata": {},
     "output_type": "execute_result"
    }
   ],
   "source": [
    "n"
   ]
  },
  {
   "cell_type": "code",
   "execution_count": 375,
   "id": "6278a4d6",
   "metadata": {},
   "outputs": [],
   "source": [
    "n_val = int(n*0.2)\n",
    "n_test = int(n*0.2)\n",
    "n_train = n-(n_val+n_test)"
   ]
  },
  {
   "cell_type": "code",
   "execution_count": 376,
   "id": "5fd15953",
   "metadata": {},
   "outputs": [
    {
     "data": {
      "text/plain": [
       "20640"
      ]
     },
     "execution_count": 376,
     "metadata": {},
     "output_type": "execute_result"
    }
   ],
   "source": [
    "n_val+n_test+n_train"
   ]
  },
  {
   "cell_type": "code",
   "execution_count": 532,
   "id": "e7a36ac7",
   "metadata": {},
   "outputs": [],
   "source": [
    "idx = np.arange(n)\n"
   ]
  },
  {
   "cell_type": "code",
   "execution_count": 533,
   "id": "bdde1edb",
   "metadata": {},
   "outputs": [],
   "source": [
    "np.random.seed(42)\n",
    "np.random.shuffle(idx)"
   ]
  },
  {
   "cell_type": "code",
   "execution_count": 298,
   "id": "4825c6f2",
   "metadata": {},
   "outputs": [
    {
     "data": {
      "text/plain": [
       "array([20558, 11430,  2656, ...,  5014,  9979,   501])"
      ]
     },
     "execution_count": 298,
     "metadata": {},
     "output_type": "execute_result"
    }
   ],
   "source": [
    "idx"
   ]
  },
  {
   "cell_type": "code",
   "execution_count": 299,
   "id": "08af2863",
   "metadata": {},
   "outputs": [],
   "source": [
    "df_shuffled = df_selected.iloc[idx]\n",
    "df_train = df_shuffled.iloc[:n_train].copy()\n",
    "df_val = df_shuffled.iloc[n_train:n_train+n_val].copy()\n",
    "df_test = df_shuffled.iloc[n_train+n_val:].copy()"
   ]
  },
  {
   "cell_type": "code",
   "execution_count": 300,
   "id": "d57aa599",
   "metadata": {},
   "outputs": [
    {
     "data": {
      "text/html": [
       "<div>\n",
       "<style scoped>\n",
       "    .dataframe tbody tr th:only-of-type {\n",
       "        vertical-align: middle;\n",
       "    }\n",
       "\n",
       "    .dataframe tbody tr th {\n",
       "        vertical-align: top;\n",
       "    }\n",
       "\n",
       "    .dataframe thead th {\n",
       "        text-align: right;\n",
       "    }\n",
       "</style>\n",
       "<table border=\"1\" class=\"dataframe\">\n",
       "  <thead>\n",
       "    <tr style=\"text-align: right;\">\n",
       "      <th></th>\n",
       "      <th>latitude</th>\n",
       "      <th>longitude</th>\n",
       "      <th>housing_median_age</th>\n",
       "      <th>total_rooms</th>\n",
       "      <th>total_bedrooms</th>\n",
       "      <th>population</th>\n",
       "      <th>households</th>\n",
       "      <th>median_income</th>\n",
       "      <th>median_house_value</th>\n",
       "    </tr>\n",
       "  </thead>\n",
       "  <tbody>\n",
       "    <tr>\n",
       "      <th>20558</th>\n",
       "      <td>38.67</td>\n",
       "      <td>-121.80</td>\n",
       "      <td>10.0</td>\n",
       "      <td>2086.0</td>\n",
       "      <td>380.0</td>\n",
       "      <td>1073.0</td>\n",
       "      <td>378.0</td>\n",
       "      <td>4.5526</td>\n",
       "      <td>154400.0</td>\n",
       "    </tr>\n",
       "    <tr>\n",
       "      <th>11430</th>\n",
       "      <td>33.66</td>\n",
       "      <td>-117.97</td>\n",
       "      <td>22.0</td>\n",
       "      <td>3914.0</td>\n",
       "      <td>600.0</td>\n",
       "      <td>1871.0</td>\n",
       "      <td>607.0</td>\n",
       "      <td>5.8541</td>\n",
       "      <td>281500.0</td>\n",
       "    </tr>\n",
       "    <tr>\n",
       "      <th>2656</th>\n",
       "      <td>40.28</td>\n",
       "      <td>-124.25</td>\n",
       "      <td>32.0</td>\n",
       "      <td>1430.0</td>\n",
       "      <td>419.0</td>\n",
       "      <td>434.0</td>\n",
       "      <td>187.0</td>\n",
       "      <td>1.9417</td>\n",
       "      <td>76100.0</td>\n",
       "    </tr>\n",
       "    <tr>\n",
       "      <th>14267</th>\n",
       "      <td>32.69</td>\n",
       "      <td>-117.11</td>\n",
       "      <td>37.0</td>\n",
       "      <td>2395.0</td>\n",
       "      <td>627.0</td>\n",
       "      <td>2489.0</td>\n",
       "      <td>599.0</td>\n",
       "      <td>1.5933</td>\n",
       "      <td>86300.0</td>\n",
       "    </tr>\n",
       "    <tr>\n",
       "      <th>3684</th>\n",
       "      <td>34.21</td>\n",
       "      <td>-118.37</td>\n",
       "      <td>36.0</td>\n",
       "      <td>1392.0</td>\n",
       "      <td>326.0</td>\n",
       "      <td>1181.0</td>\n",
       "      <td>303.0</td>\n",
       "      <td>3.1563</td>\n",
       "      <td>176400.0</td>\n",
       "    </tr>\n",
       "    <tr>\n",
       "      <th>...</th>\n",
       "      <td>...</td>\n",
       "      <td>...</td>\n",
       "      <td>...</td>\n",
       "      <td>...</td>\n",
       "      <td>...</td>\n",
       "      <td>...</td>\n",
       "      <td>...</td>\n",
       "      <td>...</td>\n",
       "      <td>...</td>\n",
       "    </tr>\n",
       "    <tr>\n",
       "      <th>14307</th>\n",
       "      <td>32.71</td>\n",
       "      <td>-117.14</td>\n",
       "      <td>52.0</td>\n",
       "      <td>500.0</td>\n",
       "      <td>NaN</td>\n",
       "      <td>480.0</td>\n",
       "      <td>108.0</td>\n",
       "      <td>1.8696</td>\n",
       "      <td>91100.0</td>\n",
       "    </tr>\n",
       "    <tr>\n",
       "      <th>8449</th>\n",
       "      <td>33.91</td>\n",
       "      <td>-118.35</td>\n",
       "      <td>19.0</td>\n",
       "      <td>1949.0</td>\n",
       "      <td>559.0</td>\n",
       "      <td>1282.0</td>\n",
       "      <td>498.0</td>\n",
       "      <td>2.7813</td>\n",
       "      <td>231300.0</td>\n",
       "    </tr>\n",
       "    <tr>\n",
       "      <th>3470</th>\n",
       "      <td>34.29</td>\n",
       "      <td>-118.46</td>\n",
       "      <td>24.0</td>\n",
       "      <td>3668.0</td>\n",
       "      <td>890.0</td>\n",
       "      <td>3151.0</td>\n",
       "      <td>810.0</td>\n",
       "      <td>3.0526</td>\n",
       "      <td>183300.0</td>\n",
       "    </tr>\n",
       "    <tr>\n",
       "      <th>8032</th>\n",
       "      <td>33.83</td>\n",
       "      <td>-118.13</td>\n",
       "      <td>44.0</td>\n",
       "      <td>1710.0</td>\n",
       "      <td>333.0</td>\n",
       "      <td>786.0</td>\n",
       "      <td>344.0</td>\n",
       "      <td>4.2917</td>\n",
       "      <td>314700.0</td>\n",
       "    </tr>\n",
       "    <tr>\n",
       "      <th>11049</th>\n",
       "      <td>33.79</td>\n",
       "      <td>-117.85</td>\n",
       "      <td>46.0</td>\n",
       "      <td>1846.0</td>\n",
       "      <td>383.0</td>\n",
       "      <td>867.0</td>\n",
       "      <td>336.0</td>\n",
       "      <td>3.4234</td>\n",
       "      <td>200000.0</td>\n",
       "    </tr>\n",
       "  </tbody>\n",
       "</table>\n",
       "<p>12384 rows × 9 columns</p>\n",
       "</div>"
      ],
      "text/plain": [
       "       latitude  longitude  housing_median_age  total_rooms  total_bedrooms  \\\n",
       "20558     38.67    -121.80                10.0       2086.0           380.0   \n",
       "11430     33.66    -117.97                22.0       3914.0           600.0   \n",
       "2656      40.28    -124.25                32.0       1430.0           419.0   \n",
       "14267     32.69    -117.11                37.0       2395.0           627.0   \n",
       "3684      34.21    -118.37                36.0       1392.0           326.0   \n",
       "...         ...        ...                 ...          ...             ...   \n",
       "14307     32.71    -117.14                52.0        500.0             NaN   \n",
       "8449      33.91    -118.35                19.0       1949.0           559.0   \n",
       "3470      34.29    -118.46                24.0       3668.0           890.0   \n",
       "8032      33.83    -118.13                44.0       1710.0           333.0   \n",
       "11049     33.79    -117.85                46.0       1846.0           383.0   \n",
       "\n",
       "       population  households  median_income  median_house_value  \n",
       "20558      1073.0       378.0         4.5526            154400.0  \n",
       "11430      1871.0       607.0         5.8541            281500.0  \n",
       "2656        434.0       187.0         1.9417             76100.0  \n",
       "14267      2489.0       599.0         1.5933             86300.0  \n",
       "3684       1181.0       303.0         3.1563            176400.0  \n",
       "...           ...         ...            ...                 ...  \n",
       "14307       480.0       108.0         1.8696             91100.0  \n",
       "8449       1282.0       498.0         2.7813            231300.0  \n",
       "3470       3151.0       810.0         3.0526            183300.0  \n",
       "8032        786.0       344.0         4.2917            314700.0  \n",
       "11049       867.0       336.0         3.4234            200000.0  \n",
       "\n",
       "[12384 rows x 9 columns]"
      ]
     },
     "execution_count": 300,
     "metadata": {},
     "output_type": "execute_result"
    }
   ],
   "source": [
    "df_train"
   ]
  },
  {
   "cell_type": "markdown",
   "id": "fc39053c",
   "metadata": {},
   "source": [
    "Make sure that the target value ('median_house_value') is not in your dataframe."
   ]
  },
  {
   "cell_type": "code",
   "execution_count": 301,
   "id": "36ae8806",
   "metadata": {},
   "outputs": [],
   "source": [
    "y_train_orig = df_train.median_house_value.values\n",
    "y_val_orig = df_val.median_house_value.values\n",
    "y_test_orig = df_test.median_house_value.values\n",
    "\n",
    "y_train = np.log1p(df_train.median_house_value.values)\n",
    "y_val = np.log1p(df_val.median_house_value.values)\n",
    "y_test = np.log1p(df_test.median_house_value.values)\n",
    "\n",
    "del df_train['median_house_value']\n",
    "del df_val['median_house_value']\n",
    "del df_test['median_house_value']"
   ]
  },
  {
   "cell_type": "markdown",
   "id": "1cd50c20",
   "metadata": {},
   "source": [
    "# Question 3"
   ]
  },
  {
   "cell_type": "markdown",
   "id": "4d72f364",
   "metadata": {},
   "source": [
    "We need to deal with missing values for the column from Q1.\n",
    "We have two options: fill it with 0 or with the mean of this variable.\n",
    "Try both options"
   ]
  },
  {
   "cell_type": "code",
   "execution_count": 260,
   "id": "7fc9e513",
   "metadata": {},
   "outputs": [],
   "source": [
    "base = ['latitude',\n",
    "'longitude',\n",
    "'housing_median_age',\n",
    "'total_rooms',\n",
    "'total_bedrooms',\n",
    "'population',\n",
    "'households',\n",
    "'median_income'\n",
    "]"
   ]
  },
  {
   "cell_type": "markdown",
   "id": "751b5cd5",
   "metadata": {},
   "source": [
    "Use the validation dataset to evaluate the models and compare the RMSE of each option.\n",
    "Round the RMSE scores to 2 decimal digits using round(score, 2)\n",
    "Which option gives better RMSE?"
   ]
  },
  {
   "cell_type": "code",
   "execution_count": 132,
   "id": "cb2fd5b9",
   "metadata": {},
   "outputs": [],
   "source": [
    "def prepare_X(df):\n",
    "    df_num = df[base]\n",
    "    df_num = df_num.fillna(0)\n",
    "    X = df_num.values\n",
    "    return X"
   ]
  },
  {
   "cell_type": "code",
   "execution_count": 133,
   "id": "e1aa8aca",
   "metadata": {},
   "outputs": [],
   "source": [
    "X_train = prepare_X(df_train)"
   ]
  },
  {
   "cell_type": "code",
   "execution_count": 134,
   "id": "6c845c65",
   "metadata": {},
   "outputs": [
    {
     "data": {
      "text/plain": [
       "(12384, 8)"
      ]
     },
     "execution_count": 134,
     "metadata": {},
     "output_type": "execute_result"
    }
   ],
   "source": [
    "X_train.shape"
   ]
  },
  {
   "cell_type": "code",
   "execution_count": 135,
   "id": "d8cac16d",
   "metadata": {},
   "outputs": [],
   "source": [
    "def train_linear_regression(X, y):\n",
    "    ones = np.ones(X.shape[0])\n",
    "    X = np.column_stack([ones, X])\n",
    "\n",
    "    XTX = X.T.dot(X)\n",
    "    XTX_inv = np.linalg.inv(XTX)\n",
    "    w_full = XTX_inv.dot(X.T).dot(y)\n",
    "    \n",
    "    return w_full[0], w_full[1:]\n",
    "    "
   ]
  },
  {
   "cell_type": "code",
   "execution_count": 136,
   "id": "81c7fa6b",
   "metadata": {},
   "outputs": [],
   "source": [
    "def rmse(y, y_pred):\n",
    "    se = (y - y_pred) ** 2\n",
    "    mse = se.mean()\n",
    "    return np.sqrt(mse)"
   ]
  },
  {
   "cell_type": "code",
   "execution_count": 150,
   "id": "c8b8c497",
   "metadata": {},
   "outputs": [
    {
     "data": {
      "text/plain": [
       "0.34"
      ]
     },
     "execution_count": 150,
     "metadata": {},
     "output_type": "execute_result"
    }
   ],
   "source": [
    "X_train = prepare_X(df_train)\n",
    "w0, w = train_linear_regression(X_train, y_train)\n",
    "X_val = prepare_X(df_val)\n",
    "y_pred = w0 + X_val.dot(w)\n",
    "round(rmse(y_val, y_pred),2)"
   ]
  },
  {
   "cell_type": "code",
   "execution_count": null,
   "id": "5d08b3b7",
   "metadata": {},
   "outputs": [],
   "source": []
  },
  {
   "cell_type": "code",
   "execution_count": 151,
   "id": "e6e8c430",
   "metadata": {},
   "outputs": [],
   "source": [
    " def prepare_X_mean(df):\n",
    "    df_num = df[base]\n",
    "    df_num = df_num.fillna(df['total_bedrooms'].mean())\n",
    "    X = df_num.values\n",
    "    return X"
   ]
  },
  {
   "cell_type": "code",
   "execution_count": 152,
   "id": "e533c5f2",
   "metadata": {},
   "outputs": [
    {
     "data": {
      "text/plain": [
       "0.34"
      ]
     },
     "execution_count": 152,
     "metadata": {},
     "output_type": "execute_result"
    }
   ],
   "source": [
    "X_train = prepare_X_mean(df_train)\n",
    "w0, w = train_linear_regression(X_train, y_train)\n",
    "X_val = prepare_X(df_val)\n",
    "y_pred = w0 + X_val.dot(w)\n",
    "round(rmse(y_val, y_pred),2)"
   ]
  },
  {
   "cell_type": "markdown",
   "id": "edf19321",
   "metadata": {},
   "source": [
    "# Question 4"
   ]
  },
  {
   "cell_type": "markdown",
   "id": "d21b26c3",
   "metadata": {},
   "source": [
    "Now let's train a regularized linear regression.\n",
    "For this question, fill the NAs with 0.\n",
    "Try different values of r from this list: [0, 0.000001, 0.0001, 0.001, 0.01, 0.1, 1, 5, 10].\n",
    "Use RMSE to evaluate the model on the validation dataset.\n",
    "Round the RMSE scores to 2 decimal digits.\n",
    "Which r gives the best RMSE?"
   ]
  },
  {
   "cell_type": "code",
   "execution_count": 154,
   "id": "21d076de",
   "metadata": {},
   "outputs": [
    {
     "data": {
      "text/plain": [
       "0.3428038945096282"
      ]
     },
     "execution_count": 154,
     "metadata": {},
     "output_type": "execute_result"
    }
   ],
   "source": [
    "def train_linear_regression_reg(X, y, r=0.001):\n",
    "    ones = np.ones(X.shape[0])\n",
    "    X = np.column_stack([ones, X])\n",
    "\n",
    "    XTX = X.T.dot(X)\n",
    "    XTX = XTX + r * np.eye(XTX.shape[0])\n",
    "\n",
    "    XTX_inv = np.linalg.inv(XTX)\n",
    "    w_full = XTX_inv.dot(X.T).dot(y)\n",
    "    \n",
    "    return w_full[0], w_full[1:]\n",
    "X_train = prepare_X(df_train)\n",
    "w0, w = train_linear_regression_reg(X_train, y_train, r=0.01)\n",
    "\n",
    "X_val = prepare_X(df_val)\n",
    "y_pred = w0 + X_val.dot(w)\n",
    "rmse(y_val, y_pred)"
   ]
  },
  {
   "cell_type": "code",
   "execution_count": 155,
   "id": "2a64226c",
   "metadata": {},
   "outputs": [
    {
     "name": "stdout",
     "output_type": "stream",
     "text": [
      "0.0 -11.656344589524409 0.34\n",
      "1e-05 -11.656185700509292 0.34\n",
      "0.0001 -11.654755895130503 0.34\n",
      "0.001 -11.640477103333314 0.34\n",
      "0.1 -10.257998426792371 0.34\n",
      "1 -4.931613572647107 0.35\n",
      "10 -0.7941313736967599 0.35\n"
     ]
    }
   ],
   "source": [
    "for r in [0.0, 0.00001, 0.0001, 0.001, 0.1, 1, 10]:\n",
    "    X_train = prepare_X(df_train)\n",
    "    w0, w = train_linear_regression_reg(X_train, y_train, r=r)\n",
    "\n",
    "    X_val = prepare_X(df_val)\n",
    "    y_pred = w0 + X_val.dot(w)\n",
    "    score = round(rmse(y_val, y_pred),2)\n",
    "    \n",
    "    print(r, w0, score)"
   ]
  },
  {
   "cell_type": "markdown",
   "id": "e1978181",
   "metadata": {},
   "source": [
    "# Question 5"
   ]
  },
  {
   "cell_type": "markdown",
   "id": "0c083400",
   "metadata": {},
   "source": [
    "We used seed 42 for splitting the data. Let's find out how selecting the seed influences our score.\n",
    "Try different seed values: [0, 1, 2, 3, 4, 5, 6, 7, 8, 9].\n",
    "For each seed, do the train/validation/test split with 60%/20%/20% distribution.\n",
    "Fill the missing values with 0 and train a model without regularization.\n",
    "For each seed, evaluate the model on the validation dataset and collect the RMSE scores.\n",
    "What's the standard deviation of all the scores? To compute the standard deviation, use np.std.\n",
    "Round the result to 3 decimal digits (round(std, 3))"
   ]
  },
  {
   "cell_type": "code",
   "execution_count": 520,
   "id": "e289d2c3",
   "metadata": {},
   "outputs": [],
   "source": [
    "seed_values = [0, 1, 2, 3, 4, 5, 6, 7, 8, 9]"
   ]
  },
  {
   "cell_type": "code",
   "execution_count": 521,
   "id": "cbd42fdf",
   "metadata": {},
   "outputs": [],
   "source": [
    "idx = np.arange(n)"
   ]
  },
  {
   "cell_type": "code",
   "execution_count": 522,
   "id": "c42a77ea",
   "metadata": {},
   "outputs": [],
   "source": [
    "rmse_array = []"
   ]
  },
  {
   "cell_type": "code",
   "execution_count": 578,
   "id": "cae1b016",
   "metadata": {},
   "outputs": [
    {
     "name": "stdout",
     "output_type": "stream",
     "text": [
      "0\n",
      "0.568649684502244\n",
      "1\n",
      "0.5687170131308235\n",
      "2\n",
      "0.568996725746431\n",
      "3\n",
      "0.5686230477964236\n",
      "4\n",
      "0.5685213506814843\n",
      "5\n",
      "0.5685858135414017\n",
      "6\n",
      "0.5689712222702235\n",
      "7\n",
      "0.5688190891487552\n",
      "8\n",
      "0.5693058508401883\n",
      "9\n",
      "0.5685501551541567\n"
     ]
    }
   ],
   "source": [
    "for seed in seed_values:\n",
    "    np.random.seed(seed)\n",
    "    np.random.shuffle(idx)\n",
    "    print(seed)\n",
    "    df_shuffled = df_selected.iloc[idx]\n",
    "    df_train = df_shuffled.iloc[:n_train].copy()\n",
    "    df_val = df_shuffled.iloc[n_train:n_train+n_val].copy()\n",
    "    df_test = df_shuffled.iloc[n_train+n_val:].copy()\n",
    "    X_train = prepare_X(df_train)\n",
    "    w0, w = train_linear_regression(X_train, y_train)\n",
    "    X_val = prepare_X(df_val)\n",
    "    y_pred = w0 + X_val.dot(w)\n",
    "    rmse_er = (rmse(y_val, y_pred))\n",
    "    print(rmse_er)\n",
    "    rmse_array.append(rmse_er)\n"
   ]
  },
  {
   "cell_type": "code",
   "execution_count": 527,
   "id": "1a8f6da3",
   "metadata": {},
   "outputs": [
    {
     "data": {
      "text/plain": [
       "[0.5689798262294293,\n",
       " 0.5690211752261365,\n",
       " 0.568762861967417,\n",
       " 0.568611361168391,\n",
       " 0.5688277534268664,\n",
       " 0.5688802210815082,\n",
       " 0.5686053833382511,\n",
       " 0.5686877677479346,\n",
       " 0.5685222584742424,\n",
       " 0.568893095861582,\n",
       " 0.5687484003549521,\n",
       " 0.5687354683239068,\n",
       " 0.5685309042004234,\n",
       " 0.5685377503776544,\n",
       " 0.5686211169336816,\n",
       " 0.5686033725638685,\n",
       " 0.5691182749815351,\n",
       " 0.5690475199702064,\n",
       " 0.5682121373731159,\n",
       " 0.5690742216091396]"
      ]
     },
     "execution_count": 527,
     "metadata": {},
     "output_type": "execute_result"
    }
   ],
   "source": [
    "rmse_array"
   ]
  },
  {
   "cell_type": "code",
   "execution_count": 577,
   "id": "635e5a0d",
   "metadata": {},
   "outputs": [
    {
     "data": {
      "text/plain": [
       "0.0"
      ]
     },
     "execution_count": 577,
     "metadata": {},
     "output_type": "execute_result"
    }
   ],
   "source": [
    "round(np.std(rmse_array),3)"
   ]
  },
  {
   "cell_type": "markdown",
   "id": "79bad982",
   "metadata": {},
   "source": [
    "# Question 6"
   ]
  },
  {
   "cell_type": "markdown",
   "id": "7196d58e",
   "metadata": {},
   "source": [
    "Split the dataset like previously, use seed 9.\n",
    "Combine train and validation datasets.\n",
    "Fill the missing values with 0 and train a model with r=0.001.\n",
    "What's the RMSE on the test dataset?"
   ]
  },
  {
   "cell_type": "code",
   "execution_count": 575,
   "id": "395d1ee9",
   "metadata": {},
   "outputs": [],
   "source": [
    "np.random.seed(9)\n",
    "np.random.shuffle(idx)"
   ]
  },
  {
   "cell_type": "code",
   "execution_count": 576,
   "id": "030a6171",
   "metadata": {},
   "outputs": [
    {
     "data": {
      "text/plain": [
       "array([ 8268,  5049, 13796, ...,  9312,  7064,  5095])"
      ]
     },
     "execution_count": 576,
     "metadata": {},
     "output_type": "execute_result"
    }
   ],
   "source": [
    "idx"
   ]
  },
  {
   "cell_type": "code",
   "execution_count": 562,
   "id": "dbf026dc",
   "metadata": {},
   "outputs": [],
   "source": [
    "df_shuffled = df_selected.iloc[idx]\n",
    "df_train = df_shuffled.iloc[:n_train].copy()\n",
    "df_val = df_shuffled.iloc[n_train:n_train+n_val].copy()\n",
    "df_test = df_shuffled.iloc[n_train+n_val:].copy()"
   ]
  },
  {
   "cell_type": "code",
   "execution_count": 537,
   "id": "17bca6a9",
   "metadata": {},
   "outputs": [
    {
     "data": {
      "text/html": [
       "<div>\n",
       "<style scoped>\n",
       "    .dataframe tbody tr th:only-of-type {\n",
       "        vertical-align: middle;\n",
       "    }\n",
       "\n",
       "    .dataframe tbody tr th {\n",
       "        vertical-align: top;\n",
       "    }\n",
       "\n",
       "    .dataframe thead th {\n",
       "        text-align: right;\n",
       "    }\n",
       "</style>\n",
       "<table border=\"1\" class=\"dataframe\">\n",
       "  <thead>\n",
       "    <tr style=\"text-align: right;\">\n",
       "      <th></th>\n",
       "      <th>latitude</th>\n",
       "      <th>longitude</th>\n",
       "      <th>housing_median_age</th>\n",
       "      <th>total_rooms</th>\n",
       "      <th>total_bedrooms</th>\n",
       "      <th>population</th>\n",
       "      <th>households</th>\n",
       "      <th>median_income</th>\n",
       "      <th>median_house_value</th>\n",
       "    </tr>\n",
       "  </thead>\n",
       "  <tbody>\n",
       "    <tr>\n",
       "      <th>6305</th>\n",
       "      <td>34.00</td>\n",
       "      <td>-117.88</td>\n",
       "      <td>32.0</td>\n",
       "      <td>265.0</td>\n",
       "      <td>51.0</td>\n",
       "      <td>170.0</td>\n",
       "      <td>50.0</td>\n",
       "      <td>3.9375</td>\n",
       "      <td>187500.0</td>\n",
       "    </tr>\n",
       "    <tr>\n",
       "      <th>11240</th>\n",
       "      <td>33.81</td>\n",
       "      <td>-117.95</td>\n",
       "      <td>33.0</td>\n",
       "      <td>1724.0</td>\n",
       "      <td>291.0</td>\n",
       "      <td>943.0</td>\n",
       "      <td>285.0</td>\n",
       "      <td>5.1180</td>\n",
       "      <td>195200.0</td>\n",
       "    </tr>\n",
       "    <tr>\n",
       "      <th>66</th>\n",
       "      <td>37.81</td>\n",
       "      <td>-122.30</td>\n",
       "      <td>48.0</td>\n",
       "      <td>1455.0</td>\n",
       "      <td>354.0</td>\n",
       "      <td>788.0</td>\n",
       "      <td>332.0</td>\n",
       "      <td>0.8056</td>\n",
       "      <td>84400.0</td>\n",
       "    </tr>\n",
       "    <tr>\n",
       "      <th>10302</th>\n",
       "      <td>33.89</td>\n",
       "      <td>-117.80</td>\n",
       "      <td>25.0</td>\n",
       "      <td>3121.0</td>\n",
       "      <td>381.0</td>\n",
       "      <td>1278.0</td>\n",
       "      <td>389.0</td>\n",
       "      <td>7.0217</td>\n",
       "      <td>357900.0</td>\n",
       "    </tr>\n",
       "    <tr>\n",
       "      <th>13852</th>\n",
       "      <td>34.51</td>\n",
       "      <td>-117.28</td>\n",
       "      <td>10.0</td>\n",
       "      <td>4676.0</td>\n",
       "      <td>884.0</td>\n",
       "      <td>2845.0</td>\n",
       "      <td>812.0</td>\n",
       "      <td>3.0181</td>\n",
       "      <td>100400.0</td>\n",
       "    </tr>\n",
       "    <tr>\n",
       "      <th>...</th>\n",
       "      <td>...</td>\n",
       "      <td>...</td>\n",
       "      <td>...</td>\n",
       "      <td>...</td>\n",
       "      <td>...</td>\n",
       "      <td>...</td>\n",
       "      <td>...</td>\n",
       "      <td>...</td>\n",
       "      <td>...</td>\n",
       "    </tr>\n",
       "    <tr>\n",
       "      <th>5549</th>\n",
       "      <td>33.97</td>\n",
       "      <td>-118.38</td>\n",
       "      <td>42.0</td>\n",
       "      <td>1859.0</td>\n",
       "      <td>337.0</td>\n",
       "      <td>813.0</td>\n",
       "      <td>326.0</td>\n",
       "      <td>6.0190</td>\n",
       "      <td>294500.0</td>\n",
       "    </tr>\n",
       "    <tr>\n",
       "      <th>3522</th>\n",
       "      <td>34.27</td>\n",
       "      <td>-118.50</td>\n",
       "      <td>35.0</td>\n",
       "      <td>2235.0</td>\n",
       "      <td>390.0</td>\n",
       "      <td>1148.0</td>\n",
       "      <td>416.0</td>\n",
       "      <td>4.8690</td>\n",
       "      <td>221600.0</td>\n",
       "    </tr>\n",
       "    <tr>\n",
       "      <th>4304</th>\n",
       "      <td>34.09</td>\n",
       "      <td>-118.30</td>\n",
       "      <td>25.0</td>\n",
       "      <td>2345.0</td>\n",
       "      <td>852.0</td>\n",
       "      <td>2860.0</td>\n",
       "      <td>862.0</td>\n",
       "      <td>1.4497</td>\n",
       "      <td>205600.0</td>\n",
       "    </tr>\n",
       "    <tr>\n",
       "      <th>5756</th>\n",
       "      <td>34.18</td>\n",
       "      <td>-118.29</td>\n",
       "      <td>52.0</td>\n",
       "      <td>1602.0</td>\n",
       "      <td>265.0</td>\n",
       "      <td>667.0</td>\n",
       "      <td>251.0</td>\n",
       "      <td>5.0490</td>\n",
       "      <td>323500.0</td>\n",
       "    </tr>\n",
       "    <tr>\n",
       "      <th>11294</th>\n",
       "      <td>33.79</td>\n",
       "      <td>-117.92</td>\n",
       "      <td>35.0</td>\n",
       "      <td>1785.0</td>\n",
       "      <td>288.0</td>\n",
       "      <td>1033.0</td>\n",
       "      <td>297.0</td>\n",
       "      <td>4.5739</td>\n",
       "      <td>190500.0</td>\n",
       "    </tr>\n",
       "  </tbody>\n",
       "</table>\n",
       "<p>12384 rows × 9 columns</p>\n",
       "</div>"
      ],
      "text/plain": [
       "       latitude  longitude  housing_median_age  total_rooms  total_bedrooms  \\\n",
       "6305      34.00    -117.88                32.0        265.0            51.0   \n",
       "11240     33.81    -117.95                33.0       1724.0           291.0   \n",
       "66        37.81    -122.30                48.0       1455.0           354.0   \n",
       "10302     33.89    -117.80                25.0       3121.0           381.0   \n",
       "13852     34.51    -117.28                10.0       4676.0           884.0   \n",
       "...         ...        ...                 ...          ...             ...   \n",
       "5549      33.97    -118.38                42.0       1859.0           337.0   \n",
       "3522      34.27    -118.50                35.0       2235.0           390.0   \n",
       "4304      34.09    -118.30                25.0       2345.0           852.0   \n",
       "5756      34.18    -118.29                52.0       1602.0           265.0   \n",
       "11294     33.79    -117.92                35.0       1785.0           288.0   \n",
       "\n",
       "       population  households  median_income  median_house_value  \n",
       "6305        170.0        50.0         3.9375            187500.0  \n",
       "11240       943.0       285.0         5.1180            195200.0  \n",
       "66          788.0       332.0         0.8056             84400.0  \n",
       "10302      1278.0       389.0         7.0217            357900.0  \n",
       "13852      2845.0       812.0         3.0181            100400.0  \n",
       "...           ...         ...            ...                 ...  \n",
       "5549        813.0       326.0         6.0190            294500.0  \n",
       "3522       1148.0       416.0         4.8690            221600.0  \n",
       "4304       2860.0       862.0         1.4497            205600.0  \n",
       "5756        667.0       251.0         5.0490            323500.0  \n",
       "11294      1033.0       297.0         4.5739            190500.0  \n",
       "\n",
       "[12384 rows x 9 columns]"
      ]
     },
     "execution_count": 537,
     "metadata": {},
     "output_type": "execute_result"
    }
   ],
   "source": [
    "df_train"
   ]
  },
  {
   "cell_type": "code",
   "execution_count": 538,
   "id": "1766c9de",
   "metadata": {},
   "outputs": [],
   "source": [
    "df_full_train = pd.concat([df_train, df_val])\n",
    "df_full_train = df_full_train.reset_index(drop=True)"
   ]
  },
  {
   "cell_type": "code",
   "execution_count": 539,
   "id": "7ee5ab49",
   "metadata": {},
   "outputs": [
    {
     "data": {
      "text/html": [
       "<div>\n",
       "<style scoped>\n",
       "    .dataframe tbody tr th:only-of-type {\n",
       "        vertical-align: middle;\n",
       "    }\n",
       "\n",
       "    .dataframe tbody tr th {\n",
       "        vertical-align: top;\n",
       "    }\n",
       "\n",
       "    .dataframe thead th {\n",
       "        text-align: right;\n",
       "    }\n",
       "</style>\n",
       "<table border=\"1\" class=\"dataframe\">\n",
       "  <thead>\n",
       "    <tr style=\"text-align: right;\">\n",
       "      <th></th>\n",
       "      <th>latitude</th>\n",
       "      <th>longitude</th>\n",
       "      <th>housing_median_age</th>\n",
       "      <th>total_rooms</th>\n",
       "      <th>total_bedrooms</th>\n",
       "      <th>population</th>\n",
       "      <th>households</th>\n",
       "      <th>median_income</th>\n",
       "      <th>median_house_value</th>\n",
       "    </tr>\n",
       "  </thead>\n",
       "  <tbody>\n",
       "    <tr>\n",
       "      <th>0</th>\n",
       "      <td>34.00</td>\n",
       "      <td>-117.88</td>\n",
       "      <td>32.0</td>\n",
       "      <td>265.0</td>\n",
       "      <td>51.0</td>\n",
       "      <td>170.0</td>\n",
       "      <td>50.0</td>\n",
       "      <td>3.9375</td>\n",
       "      <td>187500.0</td>\n",
       "    </tr>\n",
       "    <tr>\n",
       "      <th>1</th>\n",
       "      <td>33.81</td>\n",
       "      <td>-117.95</td>\n",
       "      <td>33.0</td>\n",
       "      <td>1724.0</td>\n",
       "      <td>291.0</td>\n",
       "      <td>943.0</td>\n",
       "      <td>285.0</td>\n",
       "      <td>5.1180</td>\n",
       "      <td>195200.0</td>\n",
       "    </tr>\n",
       "    <tr>\n",
       "      <th>2</th>\n",
       "      <td>37.81</td>\n",
       "      <td>-122.30</td>\n",
       "      <td>48.0</td>\n",
       "      <td>1455.0</td>\n",
       "      <td>354.0</td>\n",
       "      <td>788.0</td>\n",
       "      <td>332.0</td>\n",
       "      <td>0.8056</td>\n",
       "      <td>84400.0</td>\n",
       "    </tr>\n",
       "    <tr>\n",
       "      <th>3</th>\n",
       "      <td>33.89</td>\n",
       "      <td>-117.80</td>\n",
       "      <td>25.0</td>\n",
       "      <td>3121.0</td>\n",
       "      <td>381.0</td>\n",
       "      <td>1278.0</td>\n",
       "      <td>389.0</td>\n",
       "      <td>7.0217</td>\n",
       "      <td>357900.0</td>\n",
       "    </tr>\n",
       "    <tr>\n",
       "      <th>4</th>\n",
       "      <td>34.51</td>\n",
       "      <td>-117.28</td>\n",
       "      <td>10.0</td>\n",
       "      <td>4676.0</td>\n",
       "      <td>884.0</td>\n",
       "      <td>2845.0</td>\n",
       "      <td>812.0</td>\n",
       "      <td>3.0181</td>\n",
       "      <td>100400.0</td>\n",
       "    </tr>\n",
       "    <tr>\n",
       "      <th>...</th>\n",
       "      <td>...</td>\n",
       "      <td>...</td>\n",
       "      <td>...</td>\n",
       "      <td>...</td>\n",
       "      <td>...</td>\n",
       "      <td>...</td>\n",
       "      <td>...</td>\n",
       "      <td>...</td>\n",
       "      <td>...</td>\n",
       "    </tr>\n",
       "    <tr>\n",
       "      <th>16507</th>\n",
       "      <td>36.64</td>\n",
       "      <td>-121.79</td>\n",
       "      <td>11.0</td>\n",
       "      <td>32627.0</td>\n",
       "      <td>6445.0</td>\n",
       "      <td>28566.0</td>\n",
       "      <td>6082.0</td>\n",
       "      <td>2.3087</td>\n",
       "      <td>118800.0</td>\n",
       "    </tr>\n",
       "    <tr>\n",
       "      <th>16508</th>\n",
       "      <td>34.15</td>\n",
       "      <td>-118.61</td>\n",
       "      <td>32.0</td>\n",
       "      <td>4491.0</td>\n",
       "      <td>815.0</td>\n",
       "      <td>1696.0</td>\n",
       "      <td>749.0</td>\n",
       "      <td>4.9102</td>\n",
       "      <td>319100.0</td>\n",
       "    </tr>\n",
       "    <tr>\n",
       "      <th>16509</th>\n",
       "      <td>35.48</td>\n",
       "      <td>-120.65</td>\n",
       "      <td>19.0</td>\n",
       "      <td>2310.0</td>\n",
       "      <td>471.0</td>\n",
       "      <td>1341.0</td>\n",
       "      <td>441.0</td>\n",
       "      <td>3.2250</td>\n",
       "      <td>166900.0</td>\n",
       "    </tr>\n",
       "    <tr>\n",
       "      <th>16510</th>\n",
       "      <td>33.97</td>\n",
       "      <td>-118.31</td>\n",
       "      <td>52.0</td>\n",
       "      <td>1629.0</td>\n",
       "      <td>277.0</td>\n",
       "      <td>819.0</td>\n",
       "      <td>288.0</td>\n",
       "      <td>3.7250</td>\n",
       "      <td>142600.0</td>\n",
       "    </tr>\n",
       "    <tr>\n",
       "      <th>16511</th>\n",
       "      <td>39.76</td>\n",
       "      <td>-121.62</td>\n",
       "      <td>14.0</td>\n",
       "      <td>2063.0</td>\n",
       "      <td>559.0</td>\n",
       "      <td>934.0</td>\n",
       "      <td>529.0</td>\n",
       "      <td>1.7788</td>\n",
       "      <td>85800.0</td>\n",
       "    </tr>\n",
       "  </tbody>\n",
       "</table>\n",
       "<p>16512 rows × 9 columns</p>\n",
       "</div>"
      ],
      "text/plain": [
       "       latitude  longitude  housing_median_age  total_rooms  total_bedrooms  \\\n",
       "0         34.00    -117.88                32.0        265.0            51.0   \n",
       "1         33.81    -117.95                33.0       1724.0           291.0   \n",
       "2         37.81    -122.30                48.0       1455.0           354.0   \n",
       "3         33.89    -117.80                25.0       3121.0           381.0   \n",
       "4         34.51    -117.28                10.0       4676.0           884.0   \n",
       "...         ...        ...                 ...          ...             ...   \n",
       "16507     36.64    -121.79                11.0      32627.0          6445.0   \n",
       "16508     34.15    -118.61                32.0       4491.0           815.0   \n",
       "16509     35.48    -120.65                19.0       2310.0           471.0   \n",
       "16510     33.97    -118.31                52.0       1629.0           277.0   \n",
       "16511     39.76    -121.62                14.0       2063.0           559.0   \n",
       "\n",
       "       population  households  median_income  median_house_value  \n",
       "0           170.0        50.0         3.9375            187500.0  \n",
       "1           943.0       285.0         5.1180            195200.0  \n",
       "2           788.0       332.0         0.8056             84400.0  \n",
       "3          1278.0       389.0         7.0217            357900.0  \n",
       "4          2845.0       812.0         3.0181            100400.0  \n",
       "...           ...         ...            ...                 ...  \n",
       "16507     28566.0      6082.0         2.3087            118800.0  \n",
       "16508      1696.0       749.0         4.9102            319100.0  \n",
       "16509      1341.0       441.0         3.2250            166900.0  \n",
       "16510       819.0       288.0         3.7250            142600.0  \n",
       "16511       934.0       529.0         1.7788             85800.0  \n",
       "\n",
       "[16512 rows x 9 columns]"
      ]
     },
     "execution_count": 539,
     "metadata": {},
     "output_type": "execute_result"
    }
   ],
   "source": [
    "df_full_train"
   ]
  },
  {
   "cell_type": "code",
   "execution_count": 540,
   "id": "6a7bda55",
   "metadata": {},
   "outputs": [],
   "source": [
    "X_full_train = df_full_train.fillna(0).values"
   ]
  },
  {
   "cell_type": "code",
   "execution_count": 541,
   "id": "b4de378a",
   "metadata": {},
   "outputs": [
    {
     "data": {
      "text/plain": [
       "(16512, 9)"
      ]
     },
     "execution_count": 541,
     "metadata": {},
     "output_type": "execute_result"
    }
   ],
   "source": [
    "X_full_train.shape"
   ]
  },
  {
   "cell_type": "code",
   "execution_count": 542,
   "id": "215749eb",
   "metadata": {},
   "outputs": [],
   "source": [
    "y_full_train = np.concatenate([y_train, y_val])"
   ]
  },
  {
   "cell_type": "code",
   "execution_count": 543,
   "id": "b026557a",
   "metadata": {},
   "outputs": [
    {
     "data": {
      "text/plain": [
       "(16512,)"
      ]
     },
     "execution_count": 543,
     "metadata": {},
     "output_type": "execute_result"
    }
   ],
   "source": [
    "y_full_train.shape"
   ]
  },
  {
   "cell_type": "code",
   "execution_count": 544,
   "id": "a2f411db",
   "metadata": {},
   "outputs": [],
   "source": [
    "w0, w = train_linear_regression_reg(X_full_train, y_full_train, r=0.001)\n"
   ]
  },
  {
   "cell_type": "code",
   "execution_count": 545,
   "id": "f4f30067",
   "metadata": {},
   "outputs": [],
   "source": [
    "X_test = df_test.fillna(0).values"
   ]
  },
  {
   "cell_type": "code",
   "execution_count": 546,
   "id": "7d55ef44",
   "metadata": {},
   "outputs": [
    {
     "data": {
      "text/plain": [
       "0.5799401789725158"
      ]
     },
     "execution_count": 546,
     "metadata": {},
     "output_type": "execute_result"
    }
   ],
   "source": [
    "y_pred = w0 + X_test.dot(w)\n",
    "score = rmse(y_test, y_pred)\n",
    "score"
   ]
  },
  {
   "cell_type": "code",
   "execution_count": null,
   "id": "cb342a37",
   "metadata": {},
   "outputs": [],
   "source": []
  },
  {
   "cell_type": "code",
   "execution_count": null,
   "id": "26a869d6",
   "metadata": {},
   "outputs": [],
   "source": []
  }
 ],
 "metadata": {
  "kernelspec": {
   "display_name": "Python 3",
   "language": "python",
   "name": "python3"
  },
  "language_info": {
   "codemirror_mode": {
    "name": "ipython",
    "version": 3
   },
   "file_extension": ".py",
   "mimetype": "text/x-python",
   "name": "python",
   "nbconvert_exporter": "python",
   "pygments_lexer": "ipython3",
   "version": "3.8.8"
  }
 },
 "nbformat": 4,
 "nbformat_minor": 5
}
